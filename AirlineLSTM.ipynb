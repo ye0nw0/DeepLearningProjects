{
 "cells": [
  {
   "cell_type": "code",
   "execution_count": null,
   "metadata": {},
   "outputs": [],
   "source": [
    "import pandas as pd\n",
    "import numpy as np\n",
    "#import matplotlib.pyplot as plt\n",
    "import torch\n",
    "import torch.nn as nn\n",
    "import torch.optim as optim\n",
    "\n",
    "from torch.utils.data import DataLoader, TensorDataset\n",
    "from sklearn.preprocessing import MinMaxScaler, RobustScaler, OneHotEncoder\n",
    "from sklearn.model_selection import train_test_split\n",
    "from sklearn.preprocessing import LabelEncoder, MinMaxScaler\n",
    "from pycaret.regression import *\n",
    "#from sklearn.ensemble import RandomForestRegressor\n",
    "#from sklearn.model_selection import train_test_split, RandomizedSearchCV\n",
    "from sklearn.metrics import mean_absolute_error,mean_squared_error"
   ]
  },
  {
   "cell_type": "code",
   "execution_count": null,
   "metadata": {},
   "outputs": [],
   "source": [
    "data = pd.read_excel('/Users/gim-yeon-u/Desktop/SejongUniv/2024-1/창의학기제2/flights_yeon.xlsx')"
   ]
  },
  {
   "cell_type": "code",
   "execution_count": null,
   "metadata": {},
   "outputs": [],
   "source": [
    "import random\n",
    "\n",
    "seed = 42\n",
    "random.seed(seed)\n",
    "np.random.seed(seed)\n",
    "torch.manual_seed(seed)\n",
    "torch.cuda.manual_seed_all(seed)"
   ]
  },
  {
   "cell_type": "code",
   "execution_count": null,
   "metadata": {},
   "outputs": [],
   "source": [
    "data"
   ]
  },
  {
   "cell_type": "code",
   "execution_count": null,
   "metadata": {},
   "outputs": [],
   "source": [
    "data = data.loc[:, ~data.columns.str.contains('^Unnamed')]\n",
    "data"
   ]
  },
  {
   "cell_type": "code",
   "execution_count": null,
   "metadata": {},
   "outputs": [],
   "source": [
    "data = data.dropna(subset=['Price'])\n",
    "data"
   ]
  },
  {
   "cell_type": "code",
   "execution_count": null,
   "metadata": {},
   "outputs": [],
   "source": [
    "data = pd.DataFrame(data)\n",
    "data"
   ]
  },
  {
   "cell_type": "code",
   "execution_count": null,
   "metadata": {},
   "outputs": [],
   "source": [
    "target = 'Price'\n",
    "\n",
    "X_rest = data.drop(['Airline', 'Price'], axis=1).values\n",
    "y = data[target].values.reshape(-1, 1)\n",
    "\n",
    "le = LabelEncoder()\n",
    "airlines_encoded = le.fit_transform(data['Airline'])\n",
    "airlines_encoded = airlines_encoded.reshape(-1, 1)\n",
    "\n",
    "X = np.concatenate([X_rest, airlines_encoded], axis=1)"
   ]
  },
  {
   "cell_type": "code",
   "execution_count": null,
   "metadata": {},
   "outputs": [],
   "source": [
    "scaler_X = RobustScaler()\n",
    "scaler_y = RobustScaler()\n",
    "X_scaled = scaler_X.fit_transform(X)\n",
    "y_scaled = scaler_y.fit_transform(y)\n",
    "\n",
    "X_train, X_test, y_train, y_test = train_test_split(X_scaled, y_scaled, test_size=0.2, random_state=42)\n",
    "\n",
    "def create_sequences(data, targets, seq_len):\n",
    "    sequences = []\n",
    "    target_list = []\n",
    "    for i in range(len(data) - seq_len + 1):\n",
    "        seq = data[i:i+seq_len]\n",
    "        sequences.append(seq)\n",
    "        target_list.append(targets[i + seq_len - 1])\n",
    "    return np.array(sequences), np.array(target_list)\n",
    "\n",
    "seq_len = 5\n",
    "\n",
    "X_train_seq, y_train_seq = create_sequences(X_train, y_train, seq_len)\n",
    "X_test_seq, y_test_seq = create_sequences(X_test, y_test, seq_len)\n",
    "\n",
    "X_train_tensor = torch.FloatTensor(X_train_seq)\n",
    "y_train_tensor = torch.FloatTensor(y_train_seq)\n",
    "X_test_tensor = torch.FloatTensor(X_test_seq)\n",
    "y_test_tensor = torch.FloatTensor(y_test_seq)\n",
    "\n",
    "train_dataset = TensorDataset(X_train_tensor, y_train_tensor)\n",
    "train_loader = DataLoader(train_dataset, batch_size=32, shuffle=True)\n",
    "\n",
    "test_dataset = TensorDataset(X_test_tensor, y_test_tensor)\n",
    "test_loader = DataLoader(test_dataset, batch_size=10, shuffle=False)\n",
    "\n",
    "print(X_train_tensor.shape)\n",
    "print(y_train_tensor.shape)"
   ]
  },
  {
   "cell_type": "code",
   "execution_count": null,
   "metadata": {},
   "outputs": [],
   "source": [
    "device = torch.device(\"mps\")\n",
    "print(device)"
   ]
  },
  {
   "cell_type": "code",
   "execution_count": null,
   "metadata": {},
   "outputs": [],
   "source": [
    "class LSTMModel(nn.Module):\n",
    "    def __init__(self, input_dim, hidden_dim, num_layers, output_dim, dropout_prob=0.3):\n",
    "        super(LSTMModel, self).__init__()\n",
    "        self.hidden_dim = hidden_dim\n",
    "        self.num_layers = num_layers\n",
    "        self.lstm = nn.LSTM(input_dim, hidden_dim, num_layers, batch_first=True, dropout=dropout_prob)\n",
    "        self.fc = nn.Linear(hidden_dim, output_dim)\n",
    "\n",
    "        for name, param in self.lstm.named_parameters():\n",
    "            if \"weight\" in name:\n",
    "                nn.init.xavier_uniform_(param)\n",
    "\n",
    "    def forward(self, x):\n",
    "        h0 = torch.zeros(self.num_layers, x.size(0), self.hidden_dim).to(x.device)\n",
    "        c0 = torch.zeros(self.num_layers, x.size(0), self.hidden_dim).to(x.device)\n",
    "        out, _ = self.lstm(x, (h0, c0))\n",
    "        output = self.fc(out[:, -1, :])\n",
    "        return output\n",
    "\n",
    "input_dim = X_train_tensor.shape[2]\n",
    "hidden_dim = 128\n",
    "num_layers = 3\n",
    "output_dim = 1\n",
    "\n",
    "model = LSTMModel(input_dim, hidden_dim, num_layers, output_dim).to(device)\n",
    "optimizer = torch.optim.Adam(model.parameters(), lr=0.001)\n",
    "criterion = nn.SmoothL1Loss()\n",
    "scheduler = optim.lr_scheduler.ReduceLROnPlateau(optimizer, mode='min', factor=0.5, patience=3, verbose=True)"
   ]
  },
  {
   "cell_type": "code",
   "execution_count": null,
   "metadata": {},
   "outputs": [],
   "source": [
    "num_epochs = 50\n",
    "\n",
    "for epoch in range(num_epochs):\n",
    "    model.train()\n",
    "    total_loss = 0\n",
    "    for batch_x, batch_y in train_loader:\n",
    "        batch_x, batch_y = batch_x.to(device), batch_y.to(device)\n",
    "        optimizer.zero_grad()\n",
    "        predictions = model(batch_x)\n",
    "        loss = criterion(predictions.squeeze(-1), batch_y)\n",
    "        loss.backward()\n",
    "        optimizer.step()\n",
    "        total_loss += loss.item()\n",
    "\n",
    "    avg_loss = total_loss / len(train_loader)\n",
    "\n",
    "    model.eval()\n",
    "    total_val_loss = 0\n",
    "\n",
    "    with torch.no_grad():\n",
    "        for batch_x, batch_y in test_loader:\n",
    "            batch_x, batch_y = batch_x.to(device), batch_y.to(device)\n",
    "            predictions = model(batch_x)\n",
    "            val_loss = criterion(predictions.squeeze(-1), batch_y)\n",
    "            total_val_loss += val_loss.item()\n",
    "\n",
    "    avg_val_loss = total_val_loss / len(test_loader)\n",
    "    print(f\"Epoch {epoch+1}/{num_epochs}, Training Loss: {avg_loss:.4f}, Validation Loss: {avg_val_loss:.4f}\")\n",
    "\n",
    "model.eval()\n",
    "with torch.no_grad():\n",
    "    predictions = model(X_test_tensor.to(device)).cpu().numpy()\n",
    "    y_test_np = y_test_tensor.cpu().numpy()\n",
    "\n",
    "mse = mean_squared_error(y_test_np, predictions)\n",
    "rmse = np.sqrt(mse)\n",
    "print(f\"Test MSE: {mse:.4f}, RMSE: {rmse:.4f}\")"
   ]
  },
  {
   "cell_type": "code",
   "execution_count": null,
   "metadata": {},
   "outputs": [],
   "source": [
    "model.eval()\n",
    "with torch.no_grad():\n",
    "    predictions = model(X_test_tensor.to(device)).cpu().numpy()\n",
    "    y_test_np = y_test_tensor.cpu().numpy()\n",
    "\n",
    "mse = mean_squared_error(y_test_np, predictions)\n",
    "rmse = np.sqrt(mse)\n",
    "print(f\"Test MSE: {mse:.4f}, RMSE: {rmse:.4f}\")"
   ]
  },
  {
   "cell_type": "code",
   "execution_count": null,
   "metadata": {},
   "outputs": [],
   "source": [
    "def calculate_mape(y_true, y_pred):\n",
    "    y_true = y_true + np.finfo(float).eps\n",
    "    mape = np.mean(np.abs((y_true - y_pred) / y_true)) * 100\n",
    "    return mape\n",
    "\n",
    "model.eval()\n",
    "\n",
    "with torch.no_grad():\n",
    "    predictions = model(X_test_tensor.to(device)).cpu().numpy()\n",
    "    y_test_np = y_test_tensor.cpu().numpy()\n",
    "\n",
    "mape = calculate_mape(y_test_np, predictions)\n",
    "print(f\"Mean Absolute Percentage Error (MAPE): {mape:.2f}%\")"
   ]
  },
  {
   "cell_type": "code",
   "execution_count": null,
   "metadata": {},
   "outputs": [],
   "source": [
    "import shap\n",
    "\n",
    "model.eval()\n",
    "background_data = X_train_tensor[:300].to(device)\n",
    "test_data = X_test_tensor[:150].to(device)\n",
    "test_labels = y_test_tensor[:150].to(device)\n",
    "explainer = shap.GradientExplainer(model, background_data)\n",
    "shap_values = explainer.shap_values(test_data)\n",
    "shap_values = np.squeeze(np.array(shap_values), axis=-1)\n",
    "shap_values = shap_values.mean(axis=1)\n",
    "test_numpy = test_data.mean(dim=1).cpu().numpy()\n",
    "\n",
    "feature_names = [\n",
    "    'SearchYear', 'SearchMonth', 'SearchDay', 'FlightYear', 'FlightMonth',\n",
    "    'FlightDay', 'IsFrom', 'Day_left', 'DepartureTime', 'ArrivalTime',\n",
    "    'AirborneTime', 'Airline_encoded'\n",
    "]\n",
    "\n",
    "print(f\"Adjusted SHAP values shape: {shap_values.shape}\")\n",
    "print(f\"Adjusted test data shape: {test_numpy.shape}\")\n",
    "print(f\"Feature names count: {len(feature_names)}\")\n",
    "\n",
    "shap.summary_plot(shap_values, features=test_numpy, feature_names=feature_names)\n",
    "shap.summary_plot(shap_values, features=test_numpy, feature_names=feature_names,plot_type = 'bar')\n"
   ]
  }
 ],
 "metadata": {
  "language_info": {
   "name": "python"
  }
 },
 "nbformat": 4,
 "nbformat_minor": 2
}
