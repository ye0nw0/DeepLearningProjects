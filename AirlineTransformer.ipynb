{
 "cells": [
  {
   "cell_type": "code",
   "execution_count": null,
   "metadata": {},
   "outputs": [],
   "source": [
    "import pandas as pd\n",
    "import numpy as np\n",
    "import torch\n",
    "import torch.nn as nn\n",
    "import torch.optim as optim\n",
    "import matplotlib.pyplot as plt\n",
    "\n",
    "from sklearn.preprocessing import MinMaxScaler, RobustScaler, OneHotEncoder\n",
    "from torch.utils.data import DataLoader, TensorDataset\n",
    "from sklearn.preprocessing import LabelEncoder, MinMaxScaler\n",
    "from pycaret.regression import *\n",
    "from sklearn.ensemble import RandomForestRegressor\n",
    "from sklearn.model_selection import train_test_split, RandomizedSearchCV\n",
    "from sklearn.metrics import mean_absolute_error,mean_squared_error,r2_score\n",
    "from scipy.stats import randint as sp_randint"
   ]
  },
  {
   "cell_type": "code",
   "execution_count": null,
   "metadata": {},
   "outputs": [],
   "source": [
    "data = pd.read_csv('/Users/gim-yeon-u/Desktop/SejongUniv/2024-1/창의학기제2/flights_yeon2.csv')"
   ]
  },
  {
   "cell_type": "code",
   "execution_count": null,
   "metadata": {},
   "outputs": [],
   "source": [
    "data"
   ]
  },
  {
   "cell_type": "code",
   "execution_count": null,
   "metadata": {},
   "outputs": [],
   "source": [
    "data = data.loc[:, ~data.columns.str.contains('^Unnamed')]\n",
    "data"
   ]
  },
  {
   "cell_type": "code",
   "execution_count": null,
   "metadata": {},
   "outputs": [],
   "source": [
    "data = data.dropna(subset=['Price'])\n",
    "data"
   ]
  },
  {
   "cell_type": "code",
   "execution_count": null,
   "metadata": {},
   "outputs": [],
   "source": [
    "data = pd.DataFrame(data)\n",
    "data"
   ]
  },
  {
   "cell_type": "code",
   "execution_count": null,
   "metadata": {},
   "outputs": [],
   "source": [
    "target = 'Price'\n",
    "\n",
    "X_rest = data.drop(['Airline', 'Price'], axis=1).values\n",
    "y = data[target].values.reshape(-1, 1)\n",
    "\n",
    "label_encoder = LabelEncoder()\n",
    "airlines_encoded = label_encoder.fit_transform(data['Airline'])\n",
    "airlines_encoded = airlines_encoded.reshape(-1, 1)\n",
    "\n",
    "X = np.concatenate([X_rest, airlines_encoded], axis=1)"
   ]
  },
  {
   "cell_type": "code",
   "execution_count": null,
   "metadata": {},
   "outputs": [],
   "source": [
    "y"
   ]
  },
  {
   "cell_type": "code",
   "execution_count": null,
   "metadata": {},
   "outputs": [],
   "source": [
    "X"
   ]
  },
  {
   "cell_type": "code",
   "execution_count": null,
   "metadata": {},
   "outputs": [],
   "source": [
    "\n",
    "scaler_X = RobustScaler()\n",
    "scaler_y = RobustScaler()\n",
    "X_scaled = scaler_X.fit_transform(X)\n",
    "y_scaled = scaler_y.fit_transform(y)\n",
    "\n",
    "X_train, X_test, y_train, y_test = train_test_split(X_scaled, y_scaled, test_size=0.2, random_state=42)\n",
    "\n",
    "X_train_tensor = torch.FloatTensor(X_train)\n",
    "y_train_tensor = torch.FloatTensor(y_train)\n",
    "X_test_tensor = torch.FloatTensor(X_test)\n",
    "y_test_tensor = torch.FloatTensor(y_test)\n",
    "\n",
    "train_dataset = TensorDataset(X_train_tensor, y_train_tensor)\n",
    "train_loader = DataLoader(train_dataset, batch_size=32, shuffle=True)\n",
    "test_dataset = TensorDataset(X_test_tensor,y_test_tensor)\n",
    "test_loader = DataLoader(test_dataset, batch_size=10, shuffle=False)\n"
   ]
  },
  {
   "cell_type": "code",
   "execution_count": null,
   "metadata": {},
   "outputs": [],
   "source": [
    "device = torch.device(\"mps\")\n",
    "print(device)"
   ]
  },
  {
   "cell_type": "code",
   "execution_count": null,
   "metadata": {},
   "outputs": [],
   "source": [
    "class TransformerModel(nn.Module):\n",
    "    def __init__(self, input_dim, model_dim, num_heads, num_encoder_layers, output_dim):\n",
    "        super(TransformerModel, self).__init__()\n",
    "        self.input_linear = nn.Linear(input_dim, model_dim)\n",
    "        self.transformer = nn.Transformer(\n",
    "            d_model=model_dim,\n",
    "            nhead=num_heads,\n",
    "            num_encoder_layers=num_encoder_layers,\n",
    "            num_decoder_layers=0\n",
    "        )\n",
    "        self.output_linear = nn.Linear(model_dim, output_dim)\n",
    "\n",
    "    def forward(self, x):\n",
    "        x = x.unsqueeze(1)\n",
    "        x = self.input_linear(x)\n",
    "        x = x.permute(1, 0, 2)\n",
    "        output = self.transformer.encoder(x)\n",
    "        output = self.output_linear(output.permute(1, 0, 2).squeeze(1))\n",
    "        return output\n",
    "\n",
    "model = TransformerModel(input_dim=X_train_tensor.shape[1], model_dim=128, num_heads=2, num_encoder_layers=2, output_dim=1).to(device)\n",
    "optimizer = optim.Adam(model.parameters(), lr=0.001)\n",
    "criterion = nn.SmoothL1Loss()\n",
    "\n",
    "num_epochs = 50\n",
    "for epoch in range(num_epochs):\n",
    "    model.train()\n",
    "    total_loss = 0\n",
    "    for batch_x, batch_y in train_loader:\n",
    "        batch_x, batch_y = batch_x.to(device), batch_y.to(device)\n",
    "        \n",
    "        optimizer.zero_grad()\n",
    "        predictions = model(batch_x)\n",
    "        loss = criterion(predictions, batch_y)\n",
    "        loss.backward()\n",
    "        optimizer.step()\n",
    "        total_loss += loss.item()\n",
    "    \n",
    "    avg_loss = total_loss / len(train_loader)\n",
    "    \n",
    "    model.eval()\n",
    "    with torch.no_grad():\n",
    "        val_predictions = model(X_test_tensor.to(device))\n",
    "        val_loss = criterion(val_predictions, y_test_tensor.to(device))\n",
    "\n",
    "    print(f'Epoch {epoch+1}, Training Loss: {avg_loss:.4f}, Validation Loss: {val_loss.item():.4f}')"
   ]
  },
  {
   "cell_type": "code",
   "execution_count": null,
   "metadata": {},
   "outputs": [],
   "source": [
    "model.eval()\n",
    "with torch.no_grad():\n",
    "    predictions = model(X_test_tensor.to(device)).cpu().numpy()\n",
    "    y_test_np = y_test_tensor.cpu().numpy()\n",
    "\n",
    "mse = mean_squared_error(y_test_np, predictions)\n",
    "rmse = np.sqrt(mse)\n",
    "print(f\"Test MSE: {mse:.4f}, RMSE: {rmse:.4f}\")"
   ]
  },
  {
   "cell_type": "code",
   "execution_count": null,
   "metadata": {},
   "outputs": [],
   "source": [
    "def calculate_mape(y_true, y_pred):\n",
    "    y_true = y_true + np.finfo(float).eps\n",
    "    mape = np.mean(np.abs((y_true - y_pred) / y_true)) * 100\n",
    "    return mape\n",
    "\n",
    "model.eval()\n",
    "\n",
    "with torch.no_grad():\n",
    "    predictions = model(X_test_tensor.to(device)).cpu().numpy()\n",
    "    y_test_np = y_test_tensor.cpu().numpy()\n",
    "\n",
    "mape = calculate_mape(y_test_np, predictions)\n",
    "print(f\"Mean Absolute Percentage Error (MAPE): {mape:.2f}%\")"
   ]
  },
  {
   "cell_type": "code",
   "execution_count": null,
   "metadata": {},
   "outputs": [],
   "source": [
    "import shap\n",
    "\n",
    "model.eval()\n",
    "background_data = X_train_tensor[:300].to(device)\n",
    "test_data = X_test_tensor[:150].to(device)\n",
    "test_labels = y_test_tensor[:150].to(device)\n",
    "explainer = shap.GradientExplainer(model, background_data)\n",
    "shap_values = explainer.shap_values(test_data)\n",
    "shap_values = np.squeeze(np.array(shap_values), axis=-1)\n",
    "shap_values = shap_values.mean(axis=1)\n",
    "test_numpy = test_data.mean(dim=1).cpu().numpy()\n",
    "\n",
    "feature_names = [\n",
    "    'SearchYear', 'SearchMonth', 'SearchDay', 'FlightYear', 'FlightMonth',\n",
    "    'FlightDay', 'IsFrom', 'Day_left', 'DepartureTime', 'ArrivalTime',\n",
    "    'AirborneTime', 'Airline_encoded'\n",
    "]\n",
    "\n",
    "print(f\"Adjusted SHAP values shape: {shap_values.shape}\")\n",
    "print(f\"Adjusted test data shape: {test_numpy.shape}\")\n",
    "print(f\"Feature names count: {len(feature_names)}\")\n",
    "\n",
    "shap.summary_plot(shap_values, features=test_numpy, feature_names=feature_names)\n",
    "shap.summary_plot(shap_values, features=test_numpy, feature_names=feature_names,plot_type = 'bar')\n"
   ]
  }
 ],
 "metadata": {
  "kernelspec": {
   "display_name": "deepuser",
   "language": "python",
   "name": "python3"
  },
  "language_info": {
   "codemirror_mode": {
    "name": "ipython",
    "version": 3
   },
   "file_extension": ".py",
   "mimetype": "text/x-python",
   "name": "python",
   "nbconvert_exporter": "python",
   "pygments_lexer": "ipython3",
   "version": "3.9.18"
  }
 },
 "nbformat": 4,
 "nbformat_minor": 2
}
